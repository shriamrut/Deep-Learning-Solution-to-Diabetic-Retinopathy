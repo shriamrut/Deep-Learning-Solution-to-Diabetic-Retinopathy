{
 "cells": [
  {
   "cell_type": "code",
   "execution_count": 1,
   "metadata": {
    "_cell_guid": "79c7e3d0-c299-4dcb-8224-4455121ee9b0",
    "_uuid": "d629ff2d2480ee46fbb7e2d37f6b5fab8052498a"
   },
   "outputs": [],
   "source": [
    "import os\n",
    "import zipfile\n",
    "import numpy as np\n",
    "import sys\n",
    "import pandas as pd\n",
    "import tensorflow as tf\n",
    "from keras_preprocessing.image import load_img\n",
    "from keras_preprocessing.image import img_to_array\n",
    "from kaggle_datasets import KaggleDatasets\n",
    "from numpy import save\n",
    "from numpy import asarray\n",
    "from os import listdir\n",
    "import matplotlib as mpl\n",
    "from numpy import load\n",
    "from tensorflow.keras.optimizers import RMSprop\n",
    "import matplotlib.pyplot as plt\n",
    "import random\n",
    "from tensorflow.keras.preprocessing.image import ImageDataGenerator"
   ]
  },
  {
   "cell_type": "code",
   "execution_count": 2,
   "metadata": {},
   "outputs": [],
   "source": [
    "validation_df=pd.read_csv('/kaggle/input/bestmodelvalidationused/validation.csv')"
   ]
  },
  {
   "cell_type": "code",
   "execution_count": 3,
   "metadata": {},
   "outputs": [
    {
     "name": "stdout",
     "output_type": "stream",
     "text": [
      "gs://kds-db6211cd4531736bf26a8f5404ff6a6e65a1dfc68ccc6145be1375fd\n"
     ]
    }
   ],
   "source": [
    "path_for_gcs=KaggleDatasets().get_gcs_path('aptos2019-blindness-detection')\n",
    "print(path_for_gcs)"
   ]
  },
  {
   "cell_type": "code",
   "execution_count": 4,
   "metadata": {},
   "outputs": [],
   "source": [
    "validation_files_path=[path_for_gcs+'/train_images/'+ fname for fname in validation_df['id_code']]\n",
    "validation_labels=list(validation_df['diagnosis'])"
   ]
  },
  {
   "cell_type": "code",
   "execution_count": 5,
   "metadata": {},
   "outputs": [
    {
     "name": "stdout",
     "output_type": "stream",
     "text": [
      "Not Running on TPU\n",
      "REPLICAS  1\n"
     ]
    }
   ],
   "source": [
    "#TPU setup\n",
    "try:\n",
    "    tpu=tf.distribute.cluster_resolver.TPUClusterResolver()\n",
    "    print(\"Running on TPU\")\n",
    "except ValueError:\n",
    "    tpu=None\n",
    "if tpu:\n",
    "    tf.config.experimental_connect_to_cluster(tpu)\n",
    "    tf.tpu.experimental.initialize_tpu_system(tpu)\n",
    "    tpu_strategy=tf.distribute.experimental.TPUStrategy(tpu)\n",
    "else:\n",
    "    print(\"Not Running on TPU\")\n",
    "    tpu_strategy=tf.distribute.get_strategy()\n",
    "print(\"REPLICAS \",tpu_strategy.num_replicas_in_sync)"
   ]
  },
  {
   "cell_type": "code",
   "execution_count": 6,
   "metadata": {},
   "outputs": [],
   "source": [
    "#predefined variable\n",
    "IMG_WIDTH=512\n",
    "IMG_HEIGHT=512\n",
    "BATCH_SIZE=16*tpu_strategy.num_replicas_in_sync#take thumb rule\n",
    "AUTOTUNE = tf.data.experimental.AUTOTUNE "
   ]
  },
  {
   "cell_type": "code",
   "execution_count": 7,
   "metadata": {},
   "outputs": [],
   "source": [
    "def parse_function_for_validate(filename,label):\n",
    "    image_string=tf.io.read_file(filename)\n",
    "    image_decoded=tf.image.decode_png(image_string,channels=3)\n",
    "    image_resized=tf.image.resize(image_decoded,[IMG_WIDTH,IMG_HEIGHT])\n",
    "    image_normalized=image_resized/255.0\n",
    "    label=tf.dtypes.cast(label,tf.int32)\n",
    "    label=tf.one_hot(label,5)\n",
    "    return image_normalized,label"
   ]
  },
  {
   "cell_type": "code",
   "execution_count": 8,
   "metadata": {},
   "outputs": [],
   "source": [
    "def create_dataset(filenames, labels, is_training=True):\n",
    "    dataset = tf.data.Dataset.from_tensor_slices((filenames, labels))\n",
    "    if is_training:\n",
    "        dataset = dataset.map(parse_function_for_train, num_parallel_calls=AUTOTUNE)\n",
    "    else:\n",
    "        dataset = dataset.map(parse_function_for_validate, num_parallel_calls=AUTOTUNE)\n",
    "    dataset = dataset.prefetch(buffer_size=AUTOTUNE)\n",
    "    dataset = dataset.batch(BATCH_SIZE)\n",
    "    return dataset"
   ]
  },
  {
   "cell_type": "code",
   "execution_count": 9,
   "metadata": {},
   "outputs": [],
   "source": [
    "validation_dataset=create_dataset(validation_files_path,validation_labels,is_training=False)"
   ]
  },
  {
   "cell_type": "code",
   "execution_count": 10,
   "metadata": {},
   "outputs": [],
   "source": [
    "!pip install -q efficientnet\n",
    "import efficientnet.tfkeras as efn"
   ]
  },
  {
   "cell_type": "code",
   "execution_count": 11,
   "metadata": {},
   "outputs": [],
   "source": [
    "metrices=[tf.keras.metrics.CategoricalAccuracy(name='acc')]"
   ]
  },
  {
   "cell_type": "code",
   "execution_count": 12,
   "metadata": {},
   "outputs": [
    {
     "name": "stdout",
     "output_type": "stream",
     "text": [
      "Model: \"sequential\"\n",
      "_________________________________________________________________\n",
      "Layer (type)                 Output Shape              Param #   \n",
      "=================================================================\n",
      "efficientnet-b7 (Model)      (None, 16, 16, 2560)      64097680  \n",
      "_________________________________________________________________\n",
      "global_average_pooling2d (Gl (None, 2560)              0         \n",
      "_________________________________________________________________\n",
      "dense (Dense)                (None, 5)                 12805     \n",
      "=================================================================\n",
      "Total params: 64,110,485\n",
      "Trainable params: 63,799,765\n",
      "Non-trainable params: 310,720\n",
      "_________________________________________________________________\n"
     ]
    }
   ],
   "source": [
    "with tpu_strategy.scope():\n",
    "    enet = efn.EfficientNetB7(\n",
    "        input_shape=(IMG_WIDTH, IMG_HEIGHT, 3),\n",
    "        weights=None,#'imagenet if training for first time'\n",
    "        include_top=False\n",
    "    )\n",
    "    enet.trainable = True \n",
    "    model = tf.keras.Sequential([\n",
    "        enet,\n",
    "        tf.keras.layers.GlobalAveragePooling2D(),\n",
    "        tf.keras.layers.Dense(5, activation='softmax')\n",
    "    ])\n",
    "    model.compile(\n",
    "        optimizer=tf.keras.optimizers.Adam(1e-5),\n",
    "        loss = 'categorical_crossentropy',\n",
    "        metrics=metrices\n",
    "    )\n",
    "    model.summary()"
   ]
  },
  {
   "cell_type": "code",
   "execution_count": 13,
   "metadata": {},
   "outputs": [],
   "source": [
    "%matplotlib inline"
   ]
  },
  {
   "cell_type": "code",
   "execution_count": 14,
   "metadata": {},
   "outputs": [],
   "source": [
    "model.load_weights('/kaggle/input/projectfinal2/efficientnetb7epochs36weightswithoversamplingverticalimgaugpart1.hdf5')"
   ]
  },
  {
   "cell_type": "code",
   "execution_count": 15,
   "metadata": {},
   "outputs": [],
   "source": [
    "history1to10=np.load('/kaggle/input/histories/history1to10.npy',allow_pickle=True)\n",
    "history11to20=np.load('/kaggle/input/histories/history10to20.npy',allow_pickle=True)"
   ]
  },
  {
   "cell_type": "code",
   "execution_count": 16,
   "metadata": {},
   "outputs": [
    {
     "data": {
      "text/plain": [
       "array([{'loss': [0.7429718223970327], 'acc': [0.7285448], 'val_loss': [2.3325783014297485], 'val_acc': [0.5652174]},\n",
       "       {'loss': [0.2829801651524074], 'acc': [0.90298504], 'val_loss': [2.1125738620758057], 'val_acc': [0.47826087]},\n",
       "       {'loss': [0.16766206564298317], 'acc': [0.94962686], 'val_loss': [1.4791942834854126], 'val_acc': [0.6956522]},\n",
       "       {'loss': [0.10276847057489318], 'acc': [0.9785448], 'val_loss': [1.0975428223609924], 'val_acc': [0.6956522]},\n",
       "       {'loss': [0.08571873897158389], 'acc': [0.9692164], 'val_loss': [1.3228583931922913], 'val_acc': [0.86956525]},\n",
       "       {'loss': [0.08110816198498455], 'acc': [0.9757463], 'val_loss': [1.127720832824707], 'val_acc': [0.86956525]},\n",
       "       {'loss': [0.0722345094015794], 'acc': [0.98600745], 'val_loss': [1.5155670046806335], 'val_acc': [0.7826087]},\n",
       "       {'loss': [0.0604201923611004], 'acc': [0.98134327], 'val_loss': [1.1462824940681458], 'val_acc': [0.826087]},\n",
       "       {'loss': [0.06378606799989939], 'acc': [0.98134327], 'val_loss': [1.3474608659744263], 'val_acc': [0.7826087]},\n",
       "       {'loss': [0.05742654251629737], 'acc': [0.9850746], 'val_loss': [1.7078197002410889], 'val_acc': [0.73913044]}],\n",
       "      dtype=object)"
      ]
     },
     "execution_count": 16,
     "metadata": {},
     "output_type": "execute_result"
    }
   ],
   "source": [
    "history1to10"
   ]
  },
  {
   "cell_type": "code",
   "execution_count": 17,
   "metadata": {},
   "outputs": [
    {
     "data": {
      "text/plain": [
       "array([{'loss': [0.6259168341978273], 'acc': [0.7835821], 'val_loss': [0.9490711987018585], 'val_acc': [0.73913044]},\n",
       "       {'loss': [0.2883383865231898], 'acc': [0.9048507], 'val_loss': [0.9239094257354736], 'val_acc': [0.826087]},\n",
       "       {'loss': [0.20106189064125515], 'acc': [0.9393656], 'val_loss': [1.2790570855140686], 'val_acc': [0.7826087]},\n",
       "       {'loss': [0.1525687783845325], 'acc': [0.95522386], 'val_loss': [0.9420528411865234], 'val_acc': [0.7826087]},\n",
       "       {'loss': [0.12183386184719962], 'acc': [0.95988804], 'val_loss': [1.1153591871261597], 'val_acc': [0.826087]},\n",
       "       {'loss': [0.10094482340474627], 'acc': [0.9720149], 'val_loss': [0.9824252724647522], 'val_acc': [0.7826087]},\n",
       "       {'loss': [0.08775933881971373], 'acc': [0.9766791], 'val_loss': [1.1176316142082214], 'val_acc': [0.7826087]},\n",
       "       {'loss': [0.08796753801071822], 'acc': [0.9766791], 'val_loss': [1.5668790936470032], 'val_acc': [0.826087]},\n",
       "       {'loss': [0.08804098399939822], 'acc': [0.9776119], 'val_loss': [1.176470309495926], 'val_acc': [0.7826087]},\n",
       "       {'loss': [0.07805884648948463], 'acc': [0.9766791], 'val_loss': [0.9303404092788696], 'val_acc': [0.86956525]}],\n",
       "      dtype=object)"
      ]
     },
     "execution_count": 17,
     "metadata": {},
     "output_type": "execute_result"
    }
   ],
   "source": [
    "history11to20"
   ]
  },
  {
   "cell_type": "code",
   "execution_count": 18,
   "metadata": {},
   "outputs": [],
   "source": [
    "def plot(history1,history2):\n",
    "    acc=[]\n",
    "    val_acc=[]\n",
    "    loss=[]\n",
    "    val_loss=[]\n",
    "    for hist in history1:\n",
    "        acc.append(hist['acc'])\n",
    "        loss.append(hist['loss'])\n",
    "        val_acc.append(hist['val_acc'])\n",
    "        val_loss.append(hist['val_loss'])\n",
    "    for hist in history2:\n",
    "        acc.append(hist['acc'])\n",
    "        loss.append(hist['loss'])\n",
    "        val_acc.append(hist['val_acc'])\n",
    "        val_loss.append(hist['val_loss'])\n",
    "    epochs=range(len(acc))\n",
    "    plt.plot(epochs,acc)\n",
    "    plt.plot(epochs,val_acc)\n",
    "    plt.title('Training accuracy and Validation accuracy')\n",
    "    plt.figure()\n",
    "    plt.plot(epochs,loss)\n",
    "    plt.plot(epochs,val_loss)\n",
    "    plt.title('Training and validation loss')"
   ]
  },
  {
   "cell_type": "code",
   "execution_count": 19,
   "metadata": {},
   "outputs": [
    {
     "data": {
      "image/png": "[encoded data removed]",
      "text/plain": [
       "<Figure size 432x288 with 1 Axes>"
      ]
     },
     "metadata": {
      "needs_background": "light"
     },
     "output_type": "display_data"
    },
    {
     "data": {
      "image/png": "[encoded data removed]",
      "text/plain": [
       "<Figure size 432x288 with 1 Axes>"
      ]
     },
     "metadata": {
      "needs_background": "light"
     },
     "output_type": "display_data"
    }
   ],
   "source": [
    "plot(history1to10,history11to20)"
   ]
  },
  {
   "cell_type": "code",
   "execution_count": 20,
   "metadata": {},
   "outputs": [],
   "source": [
    "from sklearn.metrics import classification_report"
   ]
  },
  {
   "cell_type": "code",
   "execution_count": 21,
   "metadata": {},
   "outputs": [],
   "source": [
    "predictions=model.predict(validation_dataset)"
   ]
  },
  {
   "cell_type": "code",
   "execution_count": 22,
   "metadata": {},
   "outputs": [],
   "source": [
    "predictions=list(np.argmax(predictions,1))"
   ]
  },
  {
   "cell_type": "code",
   "execution_count": 23,
   "metadata": {},
   "outputs": [],
   "source": [
    "import seaborn as sn"
   ]
  },
  {
   "cell_type": "code",
   "execution_count": 24,
   "metadata": {},
   "outputs": [],
   "source": [
    "def plotconfusionmatrix(y_actual,y_pred):\n",
    "    data = {'y_Actual':    y_actual,'y_Predicted': y_pred}\n",
    "    df = pd.DataFrame(data, columns=['y_Actual','y_Predicted'])\n",
    "    confusion_matrix = pd.crosstab(df['y_Actual'], df['y_Predicted'], rownames=['Actual'], colnames=['Predicted'])\n",
    "    sn.heatmap(confusion_matrix, annot=True)\n",
    "    plt.show()"
   ]
  },
  {
   "cell_type": "code",
   "execution_count": 25,
   "metadata": {},
   "outputs": [
    {
     "data": {
      "image/png": "[encoded data removed]",
      "text/plain": [
       "<Figure size 432x288 with 2 Axes>"
      ]
     },
     "metadata": {
      "needs_background": "light"
     },
     "output_type": "display_data"
    }
   ],
   "source": [
    "plotconfusionmatrix(validation_labels,predictions)"
   ]
  }
 ],
 "metadata": {
  "kernelspec": {
   "display_name": "Python 3",
   "language": "python",
   "name": "python3"
  },
  "language_info": {
   "codemirror_mode": {
    "name": "ipython",
    "version": 3
   },
   "file_extension": ".py",
   "mimetype": "text/x-python",
   "name": "python",
   "nbconvert_exporter": "python",
   "pygments_lexer": "ipython3",
   "version": "3.7.1"
  }
 },
 "nbformat": 4,
 "nbformat_minor": 4
}
